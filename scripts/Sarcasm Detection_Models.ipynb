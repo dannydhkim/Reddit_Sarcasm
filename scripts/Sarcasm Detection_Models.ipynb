{
 "cells": [
  {
   "cell_type": "code",
   "execution_count": 61,
   "metadata": {},
   "outputs": [],
   "source": [
    "import pandas as pd\n",
    "import numpy as np\n",
    "import matplotlib.pyplot as plt\n",
    "import time\n",
    "import tensorflow as tf\n",
    "import string\n",
    "import nltk\n",
    "from sklearn.model_selection import train_test_split\n",
    "from keras.callbacks import EarlyStopping\n",
    "from nltk.corpus import stopwords\n",
    "from tensorflow.keras import Model\n",
    "from nltk.stem import WordNetLemmatizer, SnowballStemmer\n",
    "from sklearn.feature_extraction.text import TfidfVectorizer\n",
    "from tensorflow.keras.preprocessing.text import Tokenizer\n",
    "from tensorflow.keras.preprocessing.sequence import pad_sequences\n",
    "from tensorflow.keras.models import Sequential\n",
    "from tensorflow.keras.layers import Embedding, Dense, Dropout, LSTM"
   ]
  },
  {
   "cell_type": "code",
   "execution_count": 62,
   "metadata": {
    "scrolled": true
   },
   "outputs": [],
   "source": [
    "import os\n",
    "os.environ[\"TF_FORCE_GPU_ALLOW_GROWTH\"]=\"true\""
   ]
  },
  {
   "cell_type": "code",
   "execution_count": 63,
   "metadata": {},
   "outputs": [],
   "source": [
    "from tensorflow import random\n",
    "random.set_seed(42)"
   ]
  },
  {
   "cell_type": "code",
   "execution_count": 64,
   "metadata": {},
   "outputs": [],
   "source": [
    "train = pd.read_csv('C:/Users/Donghyeok/Desktop/Work Folder/Reddit Sarcasm Detection/train-balanced-sarcasm.csv')"
   ]
  },
  {
   "cell_type": "code",
   "execution_count": 65,
   "metadata": {},
   "outputs": [],
   "source": [
    "test = pd.read_csv('C:/Users/Donghyeok/Desktop/Work Folder/Reddit Sarcasm Detection/test-balanced.csv')"
   ]
  },
  {
   "cell_type": "code",
   "execution_count": 67,
   "metadata": {},
   "outputs": [],
   "source": [
    "train = train.dropna(subset=['comment'])"
   ]
  },
  {
   "cell_type": "code",
   "execution_count": 69,
   "metadata": {},
   "outputs": [
    {
     "name": "stderr",
     "output_type": "stream",
     "text": [
      "C:\\Users\\Donghyeok\\Anaconda3\\lib\\site-packages\\ipykernel_launcher.py:9: SettingWithCopyWarning: \n",
      "A value is trying to be set on a copy of a slice from a DataFrame.\n",
      "Try using .loc[row_indexer,col_indexer] = value instead\n",
      "\n",
      "See the caveats in the documentation: https://pandas.pydata.org/pandas-docs/stable/user_guide/indexing.html#returning-a-view-versus-a-copy\n",
      "  if __name__ == '__main__':\n"
     ]
    },
    {
     "data": {
      "text/html": [
       "<div>\n",
       "<style scoped>\n",
       "    .dataframe tbody tr th:only-of-type {\n",
       "        vertical-align: middle;\n",
       "    }\n",
       "\n",
       "    .dataframe tbody tr th {\n",
       "        vertical-align: top;\n",
       "    }\n",
       "\n",
       "    .dataframe thead th {\n",
       "        text-align: right;\n",
       "    }\n",
       "</style>\n",
       "<table border=\"1\" class=\"dataframe\">\n",
       "  <thead>\n",
       "    <tr style=\"text-align: right;\">\n",
       "      <th></th>\n",
       "      <th>label</th>\n",
       "      <th>comment</th>\n",
       "      <th>author</th>\n",
       "      <th>subreddit</th>\n",
       "      <th>score</th>\n",
       "      <th>ups</th>\n",
       "      <th>downs</th>\n",
       "      <th>date</th>\n",
       "      <th>created_utc</th>\n",
       "      <th>parent_comment</th>\n",
       "    </tr>\n",
       "  </thead>\n",
       "  <tbody>\n",
       "    <tr>\n",
       "      <th>0</th>\n",
       "      <td>0</td>\n",
       "      <td>NC and NH</td>\n",
       "      <td>Trumpbart</td>\n",
       "      <td>politics</td>\n",
       "      <td>2</td>\n",
       "      <td>-1</td>\n",
       "      <td>-1</td>\n",
       "      <td>2016-10</td>\n",
       "      <td>2016-10-16 23:55:23</td>\n",
       "      <td>Yeah, I get that argument. At this point, I'd ...</td>\n",
       "    </tr>\n",
       "    <tr>\n",
       "      <th>1</th>\n",
       "      <td>0</td>\n",
       "      <td>You do know west teams play against west teams...</td>\n",
       "      <td>Shbshb906</td>\n",
       "      <td>nba</td>\n",
       "      <td>-4</td>\n",
       "      <td>-1</td>\n",
       "      <td>-1</td>\n",
       "      <td>2016-11</td>\n",
       "      <td>2016-11-01 00:24:10</td>\n",
       "      <td>The blazers and Mavericks (The wests 5 and 6 s...</td>\n",
       "    </tr>\n",
       "    <tr>\n",
       "      <th>2</th>\n",
       "      <td>0</td>\n",
       "      <td>They were underdogs earlier today but since Gr...</td>\n",
       "      <td>Creepeth</td>\n",
       "      <td>nfl</td>\n",
       "      <td>3</td>\n",
       "      <td>3</td>\n",
       "      <td>0</td>\n",
       "      <td>2016-09</td>\n",
       "      <td>2016-09-22 21:45:37</td>\n",
       "      <td>They're favored to win.</td>\n",
       "    </tr>\n",
       "    <tr>\n",
       "      <th>3</th>\n",
       "      <td>0</td>\n",
       "      <td>This meme isnt funny none of the new york nigg...</td>\n",
       "      <td>icebrotha</td>\n",
       "      <td>BlackPeopleTwitter</td>\n",
       "      <td>-8</td>\n",
       "      <td>-1</td>\n",
       "      <td>-1</td>\n",
       "      <td>2016-10</td>\n",
       "      <td>2016-10-18 21:03:47</td>\n",
       "      <td>deadass don't kill my buzz</td>\n",
       "    </tr>\n",
       "    <tr>\n",
       "      <th>4</th>\n",
       "      <td>0</td>\n",
       "      <td>I could use one of those tools</td>\n",
       "      <td>cush2push</td>\n",
       "      <td>MaddenUltimateTeam</td>\n",
       "      <td>6</td>\n",
       "      <td>-1</td>\n",
       "      <td>-1</td>\n",
       "      <td>2016-12</td>\n",
       "      <td>2016-12-30 17:00:13</td>\n",
       "      <td>Yep can confirm I saw the tool they use for th...</td>\n",
       "    </tr>\n",
       "  </tbody>\n",
       "</table>\n",
       "</div>"
      ],
      "text/plain": [
       "   label                                            comment     author  \\\n",
       "0      0                                          NC and NH  Trumpbart   \n",
       "1      0  You do know west teams play against west teams...  Shbshb906   \n",
       "2      0  They were underdogs earlier today but since Gr...   Creepeth   \n",
       "3      0  This meme isnt funny none of the new york nigg...  icebrotha   \n",
       "4      0                     I could use one of those tools  cush2push   \n",
       "\n",
       "            subreddit  score  ups  downs     date          created_utc  \\\n",
       "0            politics      2   -1     -1  2016-10  2016-10-16 23:55:23   \n",
       "1                 nba     -4   -1     -1  2016-11  2016-11-01 00:24:10   \n",
       "2                 nfl      3    3      0  2016-09  2016-09-22 21:45:37   \n",
       "3  BlackPeopleTwitter     -8   -1     -1  2016-10  2016-10-18 21:03:47   \n",
       "4  MaddenUltimateTeam      6   -1     -1  2016-12  2016-12-30 17:00:13   \n",
       "\n",
       "                                      parent_comment  \n",
       "0  Yeah, I get that argument. At this point, I'd ...  \n",
       "1  The blazers and Mavericks (The wests 5 and 6 s...  \n",
       "2                            They're favored to win.  \n",
       "3                         deadass don't kill my buzz  \n",
       "4  Yep can confirm I saw the tool they use for th...  "
      ]
     },
     "execution_count": 69,
     "metadata": {},
     "output_type": "execute_result"
    }
   ],
   "source": [
    "def remove_punc(comment):\n",
    "    '''This function uses str methods from the string class to remove punctuation from the text.'''\n",
    "    \n",
    "    # replace punctuation with '' (no space)\n",
    "    translator = str.maketrans('', '', string.punctuation)\n",
    "    \n",
    "    # return the text stripped of punctuation marks\n",
    "    return comment.translate(translator)\n",
    "train['comment'] = train['comment'].apply(remove_punc)\n",
    "train.head()"
   ]
  },
  {
   "cell_type": "code",
   "execution_count": 70,
   "metadata": {
    "scrolled": true
   },
   "outputs": [
    {
     "data": {
      "text/plain": [
       "array(['i', 'me', 'my', 'myself', 'we', 'our', 'ours', 'ourselves', 'you',\n",
       "       \"you're\", \"you've\", \"you'll\", \"you'd\", 'your', 'yours', 'yourself',\n",
       "       'yourselves', 'he', 'him', 'his', 'himself', 'she', \"she's\", 'her',\n",
       "       'hers', 'herself', 'it', \"it's\", 'its', 'itself', 'they', 'them',\n",
       "       'their', 'theirs', 'themselves', 'what', 'which', 'who', 'whom',\n",
       "       'this', 'that', \"that'll\", 'these', 'those', 'am', 'is', 'are',\n",
       "       'was', 'were', 'be', 'been', 'being', 'have', 'has', 'had',\n",
       "       'having', 'do', 'does', 'did', 'doing', 'a', 'an', 'the', 'and',\n",
       "       'but', 'if', 'or', 'because', 'as', 'until', 'while', 'of', 'at',\n",
       "       'by', 'for', 'with', 'about', 'against', 'between', 'into',\n",
       "       'through', 'during', 'before', 'after', 'above', 'below', 'to',\n",
       "       'from', 'up', 'down', 'in', 'out', 'on', 'off', 'over', 'under',\n",
       "       'again', 'further', 'then', 'once', 'here', 'there', 'when',\n",
       "       'where', 'why', 'how', 'all', 'any', 'both', 'each', 'few', 'more',\n",
       "       'most', 'other', 'some', 'such', 'no', 'nor', 'not', 'only', 'own',\n",
       "       'same', 'so', 'than', 'too', 'very', 's', 't', 'can', 'will',\n",
       "       'just', 'don', \"don't\", 'should', \"should've\", 'now', 'd', 'll',\n",
       "       'm', 'o', 're', 've', 'y', 'ain', 'aren', \"aren't\", 'couldn',\n",
       "       \"couldn't\", 'didn', \"didn't\", 'doesn', \"doesn't\", 'hadn', \"hadn't\",\n",
       "       'hasn', \"hasn't\", 'haven', \"haven't\", 'isn', \"isn't\", 'ma',\n",
       "       'mightn', \"mightn't\", 'mustn', \"mustn't\", 'needn', \"needn't\",\n",
       "       'shan', \"shan't\", 'shouldn', \"shouldn't\", 'wasn', \"wasn't\",\n",
       "       'weren', \"weren't\", 'won', \"won't\", 'wouldn', \"wouldn't\"],\n",
       "      dtype='<U10')"
      ]
     },
     "execution_count": 70,
     "metadata": {},
     "output_type": "execute_result"
    }
   ],
   "source": [
    "# load stopwords from NLTK\n",
    "stopwords_eng = stopwords.words('english')\n",
    "# view stop words\n",
    "np.array(stopwords_eng)"
   ]
  },
  {
   "cell_type": "code",
   "execution_count": 71,
   "metadata": {},
   "outputs": [
    {
     "name": "stderr",
     "output_type": "stream",
     "text": [
      "C:\\Users\\Donghyeok\\Anaconda3\\lib\\site-packages\\ipykernel_launcher.py:8: SettingWithCopyWarning: \n",
      "A value is trying to be set on a copy of a slice from a DataFrame.\n",
      "Try using .loc[row_indexer,col_indexer] = value instead\n",
      "\n",
      "See the caveats in the documentation: https://pandas.pydata.org/pandas-docs/stable/user_guide/indexing.html#returning-a-view-versus-a-copy\n",
      "  \n"
     ]
    },
    {
     "data": {
      "text/html": [
       "<div>\n",
       "<style scoped>\n",
       "    .dataframe tbody tr th:only-of-type {\n",
       "        vertical-align: middle;\n",
       "    }\n",
       "\n",
       "    .dataframe tbody tr th {\n",
       "        vertical-align: top;\n",
       "    }\n",
       "\n",
       "    .dataframe thead th {\n",
       "        text-align: right;\n",
       "    }\n",
       "</style>\n",
       "<table border=\"1\" class=\"dataframe\">\n",
       "  <thead>\n",
       "    <tr style=\"text-align: right;\">\n",
       "      <th></th>\n",
       "      <th>label</th>\n",
       "      <th>comment</th>\n",
       "      <th>author</th>\n",
       "      <th>subreddit</th>\n",
       "      <th>score</th>\n",
       "      <th>ups</th>\n",
       "      <th>downs</th>\n",
       "      <th>date</th>\n",
       "      <th>created_utc</th>\n",
       "      <th>parent_comment</th>\n",
       "    </tr>\n",
       "  </thead>\n",
       "  <tbody>\n",
       "    <tr>\n",
       "      <th>0</th>\n",
       "      <td>0</td>\n",
       "      <td>nc nh</td>\n",
       "      <td>Trumpbart</td>\n",
       "      <td>politics</td>\n",
       "      <td>2</td>\n",
       "      <td>-1</td>\n",
       "      <td>-1</td>\n",
       "      <td>2016-10</td>\n",
       "      <td>2016-10-16 23:55:23</td>\n",
       "      <td>Yeah, I get that argument. At this point, I'd ...</td>\n",
       "    </tr>\n",
       "    <tr>\n",
       "      <th>1</th>\n",
       "      <td>0</td>\n",
       "      <td>know west teams play west teams east teams right</td>\n",
       "      <td>Shbshb906</td>\n",
       "      <td>nba</td>\n",
       "      <td>-4</td>\n",
       "      <td>-1</td>\n",
       "      <td>-1</td>\n",
       "      <td>2016-11</td>\n",
       "      <td>2016-11-01 00:24:10</td>\n",
       "      <td>The blazers and Mavericks (The wests 5 and 6 s...</td>\n",
       "    </tr>\n",
       "    <tr>\n",
       "      <th>2</th>\n",
       "      <td>0</td>\n",
       "      <td>underdogs earlier today since gronks announcem...</td>\n",
       "      <td>Creepeth</td>\n",
       "      <td>nfl</td>\n",
       "      <td>3</td>\n",
       "      <td>3</td>\n",
       "      <td>0</td>\n",
       "      <td>2016-09</td>\n",
       "      <td>2016-09-22 21:45:37</td>\n",
       "      <td>They're favored to win.</td>\n",
       "    </tr>\n",
       "    <tr>\n",
       "      <th>3</th>\n",
       "      <td>0</td>\n",
       "      <td>meme isnt funny none new york nigga ones</td>\n",
       "      <td>icebrotha</td>\n",
       "      <td>BlackPeopleTwitter</td>\n",
       "      <td>-8</td>\n",
       "      <td>-1</td>\n",
       "      <td>-1</td>\n",
       "      <td>2016-10</td>\n",
       "      <td>2016-10-18 21:03:47</td>\n",
       "      <td>deadass don't kill my buzz</td>\n",
       "    </tr>\n",
       "    <tr>\n",
       "      <th>4</th>\n",
       "      <td>0</td>\n",
       "      <td>could use one tools</td>\n",
       "      <td>cush2push</td>\n",
       "      <td>MaddenUltimateTeam</td>\n",
       "      <td>6</td>\n",
       "      <td>-1</td>\n",
       "      <td>-1</td>\n",
       "      <td>2016-12</td>\n",
       "      <td>2016-12-30 17:00:13</td>\n",
       "      <td>Yep can confirm I saw the tool they use for th...</td>\n",
       "    </tr>\n",
       "  </tbody>\n",
       "</table>\n",
       "</div>"
      ],
      "text/plain": [
       "   label                                            comment     author  \\\n",
       "0      0                                              nc nh  Trumpbart   \n",
       "1      0   know west teams play west teams east teams right  Shbshb906   \n",
       "2      0  underdogs earlier today since gronks announcem...   Creepeth   \n",
       "3      0           meme isnt funny none new york nigga ones  icebrotha   \n",
       "4      0                                could use one tools  cush2push   \n",
       "\n",
       "            subreddit  score  ups  downs     date          created_utc  \\\n",
       "0            politics      2   -1     -1  2016-10  2016-10-16 23:55:23   \n",
       "1                 nba     -4   -1     -1  2016-11  2016-11-01 00:24:10   \n",
       "2                 nfl      3    3      0  2016-09  2016-09-22 21:45:37   \n",
       "3  BlackPeopleTwitter     -8   -1     -1  2016-10  2016-10-18 21:03:47   \n",
       "4  MaddenUltimateTeam      6   -1     -1  2016-12  2016-12-30 17:00:13   \n",
       "\n",
       "                                      parent_comment  \n",
       "0  Yeah, I get that argument. At this point, I'd ...  \n",
       "1  The blazers and Mavericks (The wests 5 and 6 s...  \n",
       "2                            They're favored to win.  \n",
       "3                         deadass don't kill my buzz  \n",
       "4  Yep can confirm I saw the tool they use for th...  "
      ]
     },
     "execution_count": 71,
     "metadata": {},
     "output_type": "execute_result"
    }
   ],
   "source": [
    "def remove_stopwords_and_lowercase(comment):\n",
    "    '''This function lowercases words and then remove stopwords.'''\n",
    "    \n",
    "    comment = \\\n",
    "    [word.lower() for word in comment.split() if word.lower() not in stopwords_eng]\n",
    "    return ' '.join(comment)\n",
    "# Apply the function to each comment\n",
    "train['comment'] = train['comment'].apply(remove_stopwords_and_lowercase)\n",
    "train.head()"
   ]
  },
  {
   "cell_type": "code",
   "execution_count": 45,
   "metadata": {},
   "outputs": [
    {
     "name": "stderr",
     "output_type": "stream",
     "text": [
      "C:\\Users\\Donghyeok\\Anaconda3\\lib\\site-packages\\ipykernel_launcher.py:12: SettingWithCopyWarning: \n",
      "A value is trying to be set on a copy of a slice from a DataFrame.\n",
      "Try using .loc[row_indexer,col_indexer] = value instead\n",
      "\n",
      "See the caveats in the documentation: https://pandas.pydata.org/pandas-docs/stable/user_guide/indexing.html#returning-a-view-versus-a-copy\n",
      "  if sys.path[0] == '':\n"
     ]
    },
    {
     "data": {
      "text/html": [
       "<div>\n",
       "<style scoped>\n",
       "    .dataframe tbody tr th:only-of-type {\n",
       "        vertical-align: middle;\n",
       "    }\n",
       "\n",
       "    .dataframe tbody tr th {\n",
       "        vertical-align: top;\n",
       "    }\n",
       "\n",
       "    .dataframe thead th {\n",
       "        text-align: right;\n",
       "    }\n",
       "</style>\n",
       "<table border=\"1\" class=\"dataframe\">\n",
       "  <thead>\n",
       "    <tr style=\"text-align: right;\">\n",
       "      <th></th>\n",
       "      <th>label</th>\n",
       "      <th>comment</th>\n",
       "      <th>author</th>\n",
       "      <th>subreddit</th>\n",
       "      <th>score</th>\n",
       "      <th>ups</th>\n",
       "      <th>downs</th>\n",
       "      <th>date</th>\n",
       "      <th>created_utc</th>\n",
       "      <th>parent_comment</th>\n",
       "    </tr>\n",
       "  </thead>\n",
       "  <tbody>\n",
       "    <tr>\n",
       "      <th>0</th>\n",
       "      <td>0</td>\n",
       "      <td>nc nh</td>\n",
       "      <td>Trumpbart</td>\n",
       "      <td>politics</td>\n",
       "      <td>2</td>\n",
       "      <td>-1</td>\n",
       "      <td>-1</td>\n",
       "      <td>2016-10</td>\n",
       "      <td>2016-10-16 23:55:23</td>\n",
       "      <td>Yeah, I get that argument. At this point, I'd ...</td>\n",
       "    </tr>\n",
       "    <tr>\n",
       "      <th>1</th>\n",
       "      <td>0</td>\n",
       "      <td>know west team play west team east team right</td>\n",
       "      <td>Shbshb906</td>\n",
       "      <td>nba</td>\n",
       "      <td>-4</td>\n",
       "      <td>-1</td>\n",
       "      <td>-1</td>\n",
       "      <td>2016-11</td>\n",
       "      <td>2016-11-01 00:24:10</td>\n",
       "      <td>The blazers and Mavericks (The wests 5 and 6 s...</td>\n",
       "    </tr>\n",
       "    <tr>\n",
       "      <th>2</th>\n",
       "      <td>0</td>\n",
       "      <td>underdog earlier today sinc gronk announc afte...</td>\n",
       "      <td>Creepeth</td>\n",
       "      <td>nfl</td>\n",
       "      <td>3</td>\n",
       "      <td>3</td>\n",
       "      <td>0</td>\n",
       "      <td>2016-09</td>\n",
       "      <td>2016-09-22 21:45:37</td>\n",
       "      <td>They're favored to win.</td>\n",
       "    </tr>\n",
       "    <tr>\n",
       "      <th>3</th>\n",
       "      <td>0</td>\n",
       "      <td>meme isnt funni none new york nigga one</td>\n",
       "      <td>icebrotha</td>\n",
       "      <td>BlackPeopleTwitter</td>\n",
       "      <td>-8</td>\n",
       "      <td>-1</td>\n",
       "      <td>-1</td>\n",
       "      <td>2016-10</td>\n",
       "      <td>2016-10-18 21:03:47</td>\n",
       "      <td>deadass don't kill my buzz</td>\n",
       "    </tr>\n",
       "    <tr>\n",
       "      <th>4</th>\n",
       "      <td>0</td>\n",
       "      <td>could use one tool</td>\n",
       "      <td>cush2push</td>\n",
       "      <td>MaddenUltimateTeam</td>\n",
       "      <td>6</td>\n",
       "      <td>-1</td>\n",
       "      <td>-1</td>\n",
       "      <td>2016-12</td>\n",
       "      <td>2016-12-30 17:00:13</td>\n",
       "      <td>Yep can confirm I saw the tool they use for th...</td>\n",
       "    </tr>\n",
       "  </tbody>\n",
       "</table>\n",
       "</div>"
      ],
      "text/plain": [
       "   label                                            comment     author  \\\n",
       "0      0                                              nc nh  Trumpbart   \n",
       "1      0      know west team play west team east team right  Shbshb906   \n",
       "2      0  underdog earlier today sinc gronk announc afte...   Creepeth   \n",
       "3      0            meme isnt funni none new york nigga one  icebrotha   \n",
       "4      0                                 could use one tool  cush2push   \n",
       "\n",
       "            subreddit  score  ups  downs     date          created_utc  \\\n",
       "0            politics      2   -1     -1  2016-10  2016-10-16 23:55:23   \n",
       "1                 nba     -4   -1     -1  2016-11  2016-11-01 00:24:10   \n",
       "2                 nfl      3    3      0  2016-09  2016-09-22 21:45:37   \n",
       "3  BlackPeopleTwitter     -8   -1     -1  2016-10  2016-10-18 21:03:47   \n",
       "4  MaddenUltimateTeam      6   -1     -1  2016-12  2016-12-30 17:00:13   \n",
       "\n",
       "                                      parent_comment  \n",
       "0  Yeah, I get that argument. At this point, I'd ...  \n",
       "1  The blazers and Mavericks (The wests 5 and 6 s...  \n",
       "2                            They're favored to win.  \n",
       "3                         deadass don't kill my buzz  \n",
       "4  Yep can confirm I saw the tool they use for th...  "
      ]
     },
     "execution_count": 45,
     "metadata": {},
     "output_type": "execute_result"
    }
   ],
   "source": [
    "stemmer = SnowballStemmer('english')\n",
    "\n",
    "def stem_each_word(text):\n",
    "    '''This function stems each word in `text`'''\n",
    "    \n",
    "    text = [stemmer.stem(word) for word in text.split()]\n",
    "    return ' '.join(text)\n",
    "\n",
    "# apply stem_each_word function to each TRAIN and TEST comment\n",
    "\n",
    "# TRAIN\n",
    "train['comment'] = train['comment'].apply(stem_each_word)\n",
    "train.head()\n"
   ]
  },
  {
   "cell_type": "code",
   "execution_count": 13,
   "metadata": {},
   "outputs": [
    {
     "name": "stderr",
     "output_type": "stream",
     "text": [
      "C:\\Users\\Donghyeok\\Anaconda3\\lib\\site-packages\\ipykernel_launcher.py:18: SettingWithCopyWarning: \n",
      "A value is trying to be set on a copy of a slice from a DataFrame.\n",
      "Try using .loc[row_indexer,col_indexer] = value instead\n",
      "\n",
      "See the caveats in the documentation: https://pandas.pydata.org/pandas-docs/stable/user_guide/indexing.html#returning-a-view-versus-a-copy\n"
     ]
    },
    {
     "data": {
      "text/html": [
       "<div>\n",
       "<style scoped>\n",
       "    .dataframe tbody tr th:only-of-type {\n",
       "        vertical-align: middle;\n",
       "    }\n",
       "\n",
       "    .dataframe tbody tr th {\n",
       "        vertical-align: top;\n",
       "    }\n",
       "\n",
       "    .dataframe thead th {\n",
       "        text-align: right;\n",
       "    }\n",
       "</style>\n",
       "<table border=\"1\" class=\"dataframe\">\n",
       "  <thead>\n",
       "    <tr style=\"text-align: right;\">\n",
       "      <th></th>\n",
       "      <th>label</th>\n",
       "      <th>comment</th>\n",
       "      <th>author</th>\n",
       "      <th>subreddit</th>\n",
       "      <th>score</th>\n",
       "      <th>ups</th>\n",
       "      <th>downs</th>\n",
       "      <th>date</th>\n",
       "      <th>created_utc</th>\n",
       "      <th>parent_comment</th>\n",
       "    </tr>\n",
       "  </thead>\n",
       "  <tbody>\n",
       "    <tr>\n",
       "      <th>0</th>\n",
       "      <td>0</td>\n",
       "      <td>nc nh</td>\n",
       "      <td>Trumpbart</td>\n",
       "      <td>politics</td>\n",
       "      <td>2</td>\n",
       "      <td>-1</td>\n",
       "      <td>-1</td>\n",
       "      <td>2016-10</td>\n",
       "      <td>2016-10-16 23:55:23</td>\n",
       "      <td>Yeah, I get that argument. At this point, I'd ...</td>\n",
       "    </tr>\n",
       "    <tr>\n",
       "      <th>1</th>\n",
       "      <td>0</td>\n",
       "      <td>know west team play west team east team right</td>\n",
       "      <td>Shbshb906</td>\n",
       "      <td>nba</td>\n",
       "      <td>-4</td>\n",
       "      <td>-1</td>\n",
       "      <td>-1</td>\n",
       "      <td>2016-11</td>\n",
       "      <td>2016-11-01 00:24:10</td>\n",
       "      <td>The blazers and Mavericks (The wests 5 and 6 s...</td>\n",
       "    </tr>\n",
       "    <tr>\n",
       "      <th>2</th>\n",
       "      <td>0</td>\n",
       "      <td>underdog earlier today sinc gronk announc afte...</td>\n",
       "      <td>Creepeth</td>\n",
       "      <td>nfl</td>\n",
       "      <td>3</td>\n",
       "      <td>3</td>\n",
       "      <td>0</td>\n",
       "      <td>2016-09</td>\n",
       "      <td>2016-09-22 21:45:37</td>\n",
       "      <td>They're favored to win.</td>\n",
       "    </tr>\n",
       "    <tr>\n",
       "      <th>3</th>\n",
       "      <td>0</td>\n",
       "      <td>meme isnt funni none new york nigga one</td>\n",
       "      <td>icebrotha</td>\n",
       "      <td>BlackPeopleTwitter</td>\n",
       "      <td>-8</td>\n",
       "      <td>-1</td>\n",
       "      <td>-1</td>\n",
       "      <td>2016-10</td>\n",
       "      <td>2016-10-18 21:03:47</td>\n",
       "      <td>deadass don't kill my buzz</td>\n",
       "    </tr>\n",
       "    <tr>\n",
       "      <th>4</th>\n",
       "      <td>0</td>\n",
       "      <td>could use one tool</td>\n",
       "      <td>cush2push</td>\n",
       "      <td>MaddenUltimateTeam</td>\n",
       "      <td>6</td>\n",
       "      <td>-1</td>\n",
       "      <td>-1</td>\n",
       "      <td>2016-12</td>\n",
       "      <td>2016-12-30 17:00:13</td>\n",
       "      <td>Yep can confirm I saw the tool they use for th...</td>\n",
       "    </tr>\n",
       "  </tbody>\n",
       "</table>\n",
       "</div>"
      ],
      "text/plain": [
       "   label                                            comment     author  \\\n",
       "0      0                                              nc nh  Trumpbart   \n",
       "1      0      know west team play west team east team right  Shbshb906   \n",
       "2      0  underdog earlier today sinc gronk announc afte...   Creepeth   \n",
       "3      0            meme isnt funni none new york nigga one  icebrotha   \n",
       "4      0                                 could use one tool  cush2push   \n",
       "\n",
       "            subreddit  score  ups  downs     date          created_utc  \\\n",
       "0            politics      2   -1     -1  2016-10  2016-10-16 23:55:23   \n",
       "1                 nba     -4   -1     -1  2016-11  2016-11-01 00:24:10   \n",
       "2                 nfl      3    3      0  2016-09  2016-09-22 21:45:37   \n",
       "3  BlackPeopleTwitter     -8   -1     -1  2016-10  2016-10-18 21:03:47   \n",
       "4  MaddenUltimateTeam      6   -1     -1  2016-12  2016-12-30 17:00:13   \n",
       "\n",
       "                                      parent_comment  \n",
       "0  Yeah, I get that argument. At this point, I'd ...  \n",
       "1  The blazers and Mavericks (The wests 5 and 6 s...  \n",
       "2                            They're favored to win.  \n",
       "3                         deadass don't kill my buzz  \n",
       "4  Yep can confirm I saw the tool they use for th...  "
      ]
     },
     "execution_count": 13,
     "metadata": {},
     "output_type": "execute_result"
    }
   ],
   "source": [
    "lemmatizer = WordNetLemmatizer()\n",
    "\n",
    "def lemmatize_each_word(text):\n",
    "    '''This function lemmatizes each word, e.g., \n",
    "    - Remove the final \"s\" or \"es\" to singularize plurals and change person of some verbs\n",
    "      (gets --> get,\n",
    "      passes --> pass, \n",
    "      BUT not always as expected: \n",
    "      does --> doe (a deer, a female deer), \n",
    "      capitalizes --> captializes)\n",
    "    '''\n",
    "    text = [lemmatizer.lemmatize(word) for word in text.split()]\n",
    "    return ' '.join(text)\n",
    "\n",
    "# apply lemmatize_each_word(text) function to each TRAIN and TEST comment\n",
    "\n",
    "# TRAIN\n",
    "train['comment'] = train['comment'].apply(lemmatize_each_word)\n",
    "train.head()"
   ]
  },
  {
   "cell_type": "code",
   "execution_count": 46,
   "metadata": {},
   "outputs": [],
   "source": [
    "#Choose Random samples (fixed number) and concatenate - Shuffles + sample size:\n",
    "sample_df_idx1 = np.random.choice(train.loc[train['label']==0].index, int(len(train.loc[train['label']==0].index)*0.5))\n",
    "sample_df_idx2 = np.random.choice(train.loc[train['label']==1].index, int(len(train.loc[train['label']==1].index)*0.5))\n",
    "sample_df_idx = np.concatenate((sample_df_idx1, sample_df_idx2))"
   ]
  },
  {
   "cell_type": "code",
   "execution_count": 47,
   "metadata": {},
   "outputs": [],
   "source": [
    "comments = train['comment'].loc[sample_df_idx]\n",
    "labels = train['label'].loc[sample_df_idx]"
   ]
  },
  {
   "cell_type": "code",
   "execution_count": 40,
   "metadata": {
    "scrolled": true
   },
   "outputs": [],
   "source": [
    "embedding_dim = 32\n",
    "vocab_size = 8000\n",
    "length = 100\n",
    "\n",
    "tokenizer = Tokenizer(num_words=vocab_size, oov_token=\"<OOV>\")\n",
    "tokenizer.fit_on_texts(comments)\n",
    "\n",
    "word_index = tokenizer.word_index\n",
    "\n",
    "train_seq = tokenizer.texts_to_sequences(comments)\n",
    "train_pad = pad_sequences(train_seq, maxlen=length, padding='post', truncating='post')"
   ]
  },
  {
   "cell_type": "code",
   "execution_count": 41,
   "metadata": {},
   "outputs": [
    {
     "name": "stderr",
     "output_type": "stream",
     "text": [
      "C:\\Users\\Donghyeok\\Anaconda3\\lib\\site-packages\\ipykernel_launcher.py:1: VisibleDeprecationWarning: Creating an ndarray from ragged nested sequences (which is a list-or-tuple of lists-or-tuples-or ndarrays with different lengths or shapes) is deprecated. If you meant to do this, you must specify 'dtype=object' when creating the ndarray\n",
      "  \"\"\"Entry point for launching an IPython kernel.\n"
     ]
    }
   ],
   "source": [
    "train_seq = np.array(train_seq)\n",
    "train_pad = np.array(train_pad)\n",
    "labels = np.array(labels)"
   ]
  },
  {
   "cell_type": "code",
   "execution_count": 43,
   "metadata": {
    "scrolled": true
   },
   "outputs": [],
   "source": [
    "#Holdout validation set\n",
    "X_train, X_test, y_train, y_test = train_test_split(train_pad, labels, test_size=0.2, random_state=24)\n"
   ]
  },
  {
   "cell_type": "code",
   "execution_count": 49,
   "metadata": {},
   "outputs": [],
   "source": [
    "model = Sequential()\n",
    "model.add(Embedding(vocab_size, embedding_dim, input_length=length))\n",
    "model.add(Dropout(0.5))\n",
    "model.add(LSTM(256))\n",
    "model.add(Dropout(0.5))\n",
    "model.add(Dense(1, activation='sigmoid'))\n",
    "\n",
    "model.compile(loss='binary_crossentropy',optimizer='adam',metrics=['accuracy'])"
   ]
  },
  {
   "cell_type": "code",
   "execution_count": 50,
   "metadata": {
    "scrolled": true
   },
   "outputs": [
    {
     "name": "stdout",
     "output_type": "stream",
     "text": [
      "Model: \"sequential_1\"\n",
      "_________________________________________________________________\n",
      "Layer (type)                 Output Shape              Param #   \n",
      "=================================================================\n",
      "embedding_1 (Embedding)      (None, 100, 32)           256000    \n",
      "_________________________________________________________________\n",
      "dropout (Dropout)            (None, 100, 32)           0         \n",
      "_________________________________________________________________\n",
      "lstm_1 (LSTM)                (None, 256)               295936    \n",
      "_________________________________________________________________\n",
      "dropout_1 (Dropout)          (None, 256)               0         \n",
      "_________________________________________________________________\n",
      "dense_1 (Dense)              (None, 1)                 257       \n",
      "=================================================================\n",
      "Total params: 552,193\n",
      "Trainable params: 552,193\n",
      "Non-trainable params: 0\n",
      "_________________________________________________________________\n"
     ]
    }
   ],
   "source": [
    "model.summary()"
   ]
  },
  {
   "cell_type": "code",
   "execution_count": 52,
   "metadata": {},
   "outputs": [],
   "source": [
    "es = EarlyStopping(monitor='val_loss', mode='min', verbose=1, patience=10)"
   ]
  },
  {
   "cell_type": "code",
   "execution_count": 53,
   "metadata": {},
   "outputs": [],
   "source": [
    "checkpoint_path = \"training_/cp.ckpt\"\n",
    "checkpoint_dir = os.path.dirname(checkpoint_path)\n",
    "cp_callback = tf.keras.callbacks.ModelCheckpoint(filepath=checkpoint_path,\n",
    "                                                 save_weights_only=True,\n",
    "                                                 verbose=1)"
   ]
  },
  {
   "cell_type": "code",
   "execution_count": 55,
   "metadata": {
    "scrolled": true
   },
   "outputs": [
    {
     "name": "stdout",
     "output_type": "stream",
     "text": [
      "Train on 323446 samples, validate on 80862 samples\n",
      "Epoch 1/100\n",
      "323300/323446 [============================>.] - ETA: 0s - loss: 0.6934 - accuracy: 0.4993\n",
      "Epoch 00001: saving model to training_3/cp.ckpt\n",
      "323446/323446 [==============================] - 133s 413us/sample - loss: 0.6934 - accuracy: 0.4993 - val_loss: 0.6932 - val_accuracy: 0.5002\n",
      "Epoch 2/100\n",
      "323300/323446 [============================>.] - ETA: 0s - loss: 0.6932 - accuracy: 0.5043\n",
      "Epoch 00002: saving model to training_3/cp.ckpt\n",
      "323446/323446 [==============================] - 132s 407us/sample - loss: 0.6932 - accuracy: 0.5043 - val_loss: 0.6776 - val_accuracy: 0.5936\n",
      "Epoch 3/100\n",
      "323300/323446 [============================>.] - ETA: 0s - loss: 0.6485 - accuracy: 0.6285\n",
      "Epoch 00003: saving model to training_3/cp.ckpt\n",
      "323446/323446 [==============================] - 130s 403us/sample - loss: 0.6485 - accuracy: 0.6285 - val_loss: 0.6153 - val_accuracy: 0.6645\n",
      "Epoch 4/100\n",
      "323300/323446 [============================>.] - ETA: 0s - loss: 0.6159 - accuracy: 0.6648\n",
      "Epoch 00004: saving model to training_3/cp.ckpt\n",
      "323446/323446 [==============================] - 130s 402us/sample - loss: 0.6159 - accuracy: 0.6648 - val_loss: 0.6028 - val_accuracy: 0.6732\n",
      "Epoch 5/100\n",
      "323300/323446 [============================>.] - ETA: 0s - loss: 0.5986 - accuracy: 0.6820\n",
      "Epoch 00005: saving model to training_3/cp.ckpt\n",
      "323446/323446 [==============================] - 133s 411us/sample - loss: 0.5986 - accuracy: 0.6819 - val_loss: 0.5983 - val_accuracy: 0.6794\n",
      "Epoch 6/100\n",
      "323300/323446 [============================>.] - ETA: 0s - loss: 0.5862 - accuracy: 0.6919\n",
      "Epoch 00006: saving model to training_3/cp.ckpt\n",
      "323446/323446 [==============================] - 132s 408us/sample - loss: 0.5862 - accuracy: 0.6919 - val_loss: 0.5912 - val_accuracy: 0.6862\n",
      "Epoch 7/100\n",
      "323300/323446 [============================>.] - ETA: 0s - loss: 0.5914 - accuracy: 0.6883\n",
      "Epoch 00007: saving model to training_3/cp.ckpt\n",
      "323446/323446 [==============================] - 132s 407us/sample - loss: 0.5914 - accuracy: 0.6883 - val_loss: 0.6057 - val_accuracy: 0.6715\n",
      "Epoch 8/100\n",
      "323300/323446 [============================>.] - ETA: 0s - loss: 0.5933 - accuracy: 0.6876\n",
      "Epoch 00008: saving model to training_3/cp.ckpt\n",
      "323446/323446 [==============================] - 133s 410us/sample - loss: 0.5933 - accuracy: 0.6876 - val_loss: 0.6047 - val_accuracy: 0.6732\n",
      "Epoch 9/100\n",
      "323300/323446 [============================>.] - ETA: 0s - loss: 0.5873 - accuracy: 0.6930\n",
      "Epoch 00009: saving model to training_3/cp.ckpt\n",
      "323446/323446 [==============================] - 133s 410us/sample - loss: 0.5873 - accuracy: 0.6929 - val_loss: 0.5835 - val_accuracy: 0.6925\n",
      "Epoch 10/100\n",
      "323300/323446 [============================>.] - ETA: 0s - loss: 0.5705 - accuracy: 0.7056\n",
      "Epoch 00010: saving model to training_3/cp.ckpt\n",
      "323446/323446 [==============================] - 133s 410us/sample - loss: 0.5705 - accuracy: 0.7056 - val_loss: 0.5884 - val_accuracy: 0.6887\n",
      "Epoch 11/100\n",
      "323400/323446 [============================>.] - ETA: 0s - loss: 0.5650 - accuracy: 0.7097\n",
      "Epoch 00011: saving model to training_3/cp.ckpt\n",
      "323446/323446 [==============================] - 131s 406us/sample - loss: 0.5650 - accuracy: 0.7097 - val_loss: 0.5836 - val_accuracy: 0.6899\n",
      "Epoch 12/100\n",
      "323300/323446 [============================>.] - ETA: 0s - loss: 0.5592 - accuracy: 0.7145\n",
      "Epoch 00012: saving model to training_3/cp.ckpt\n",
      "323446/323446 [==============================] - 133s 411us/sample - loss: 0.5592 - accuracy: 0.7145 - val_loss: 0.5781 - val_accuracy: 0.6974\n",
      "Epoch 13/100\n",
      "323400/323446 [============================>.] - ETA: 0s - loss: 0.5554 - accuracy: 0.7175\n",
      "Epoch 00013: saving model to training_3/cp.ckpt\n",
      "323446/323446 [==============================] - 133s 410us/sample - loss: 0.5554 - accuracy: 0.7175 - val_loss: 0.5785 - val_accuracy: 0.6958\n",
      "Epoch 14/100\n",
      "323300/323446 [============================>.] - ETA: 0s - loss: 0.5858 - accuracy: 0.6954\n",
      "Epoch 00014: saving model to training_3/cp.ckpt\n",
      "323446/323446 [==============================] - 132s 407us/sample - loss: 0.5859 - accuracy: 0.6954 - val_loss: 0.6034 - val_accuracy: 0.6763\n",
      "Epoch 15/100\n",
      "323300/323446 [============================>.] - ETA: 0s - loss: 0.5760 - accuracy: 0.7036\n",
      "Epoch 00015: saving model to training_3/cp.ckpt\n",
      "323446/323446 [==============================] - 132s 407us/sample - loss: 0.5760 - accuracy: 0.7035 - val_loss: 0.5875 - val_accuracy: 0.6903\n",
      "Epoch 16/100\n",
      "323300/323446 [============================>.] - ETA: 0s - loss: 0.5835 - accuracy: 0.7010\n",
      "Epoch 00016: saving model to training_3/cp.ckpt\n",
      "323446/323446 [==============================] - 132s 407us/sample - loss: 0.5835 - accuracy: 0.7010 - val_loss: 0.5895 - val_accuracy: 0.6896\n",
      "Epoch 17/100\n",
      "323300/323446 [============================>.] - ETA: 0s - loss: 0.5680 - accuracy: 0.7140\n",
      "Epoch 00017: saving model to training_3/cp.ckpt\n",
      "323446/323446 [==============================] - 131s 406us/sample - loss: 0.5680 - accuracy: 0.7140 - val_loss: 0.5885 - val_accuracy: 0.6929\n",
      "Epoch 18/100\n",
      "323300/323446 [============================>.] - ETA: 0s - loss: 0.5693 - accuracy: 0.7110\n",
      "Epoch 00018: saving model to training_3/cp.ckpt\n",
      "323446/323446 [==============================] - 132s 407us/sample - loss: 0.5693 - accuracy: 0.7111 - val_loss: 0.5893 - val_accuracy: 0.6873\n",
      "Epoch 19/100\n",
      "323300/323446 [============================>.] - ETA: 0s - loss: 0.5572 - accuracy: 0.7211\n",
      "Epoch 00019: saving model to training_3/cp.ckpt\n",
      "323446/323446 [==============================] - 134s 413us/sample - loss: 0.5572 - accuracy: 0.7212 - val_loss: 0.5780 - val_accuracy: 0.6964\n",
      "Epoch 20/100\n",
      "323300/323446 [============================>.] - ETA: 0s - loss: 0.5498 - accuracy: 0.7241\n",
      "Epoch 00020: saving model to training_3/cp.ckpt\n",
      "323446/323446 [==============================] - 131s 405us/sample - loss: 0.5499 - accuracy: 0.7240 - val_loss: 0.5795 - val_accuracy: 0.6978\n",
      "Epoch 21/100\n",
      "323300/323446 [============================>.] - ETA: 0s - loss: 0.5460 - accuracy: 0.7261\n",
      "Epoch 00021: saving model to training_3/cp.ckpt\n",
      "323446/323446 [==============================] - 131s 406us/sample - loss: 0.5460 - accuracy: 0.7261 - val_loss: 0.5813 - val_accuracy: 0.6990\n",
      "Epoch 22/100\n",
      "323400/323446 [============================>.] - ETA: 0s - loss: 0.5403 - accuracy: 0.7307\n",
      "Epoch 00022: saving model to training_3/cp.ckpt\n",
      "323446/323446 [==============================] - 131s 405us/sample - loss: 0.5404 - accuracy: 0.7307 - val_loss: 0.5767 - val_accuracy: 0.6986\n",
      "Epoch 23/100\n",
      "323300/323446 [============================>.] - ETA: 0s - loss: 0.5370 - accuracy: 0.7316\n",
      "Epoch 00023: saving model to training_3/cp.ckpt\n",
      "323446/323446 [==============================] - 132s 409us/sample - loss: 0.5370 - accuracy: 0.7316 - val_loss: 0.5740 - val_accuracy: 0.7002\n",
      "Epoch 24/100\n",
      "323300/323446 [============================>.] - ETA: 0s - loss: 0.5345 - accuracy: 0.7338\n",
      "Epoch 00024: saving model to training_3/cp.ckpt\n",
      "323446/323446 [==============================] - 132s 408us/sample - loss: 0.5345 - accuracy: 0.7338 - val_loss: 0.5771 - val_accuracy: 0.6988\n",
      "Epoch 25/100\n",
      "323300/323446 [============================>.] - ETA: 0s - loss: 0.5309 - accuracy: 0.7360\n",
      "Epoch 00025: saving model to training_3/cp.ckpt\n",
      "323446/323446 [==============================] - 131s 404us/sample - loss: 0.5309 - accuracy: 0.7360 - val_loss: 0.5776 - val_accuracy: 0.7005\n",
      "Epoch 26/100\n",
      "323300/323446 [============================>.] - ETA: 0s - loss: 0.5328 - accuracy: 0.7353\n",
      "Epoch 00026: saving model to training_3/cp.ckpt\n",
      "323446/323446 [==============================] - 133s 411us/sample - loss: 0.5328 - accuracy: 0.7353 - val_loss: 0.5915 - val_accuracy: 0.7000\n",
      "Epoch 27/100\n",
      "323300/323446 [============================>.] - ETA: 0s - loss: 0.5336 - accuracy: 0.7344\n",
      "Epoch 00027: saving model to training_3/cp.ckpt\n",
      "323446/323446 [==============================] - 131s 406us/sample - loss: 0.5335 - accuracy: 0.7344 - val_loss: 0.5925 - val_accuracy: 0.6977\n",
      "Epoch 28/100\n",
      "323300/323446 [============================>.] - ETA: 0s - loss: 0.5331 - accuracy: 0.7352\n",
      "Epoch 00028: saving model to training_3/cp.ckpt\n",
      "323446/323446 [==============================] - 132s 407us/sample - loss: 0.5331 - accuracy: 0.7352 - val_loss: 0.5814 - val_accuracy: 0.6983\n"
     ]
    },
    {
     "name": "stdout",
     "output_type": "stream",
     "text": [
      "Epoch 29/100\n",
      "323300/323446 [============================>.] - ETA: 0s - loss: 0.5284 - accuracy: 0.7370\n",
      "Epoch 00029: saving model to training_3/cp.ckpt\n",
      "323446/323446 [==============================] - 132s 409us/sample - loss: 0.5284 - accuracy: 0.7370 - val_loss: 0.5797 - val_accuracy: 0.6998\n",
      "Epoch 30/100\n",
      "323300/323446 [============================>.] - ETA: 0s - loss: 0.5240 - accuracy: 0.7400\n",
      "Epoch 00030: saving model to training_3/cp.ckpt\n",
      "323446/323446 [==============================] - 132s 409us/sample - loss: 0.5240 - accuracy: 0.7400 - val_loss: 0.5776 - val_accuracy: 0.7001\n",
      "Epoch 31/100\n",
      "323300/323446 [============================>.] - ETA: 0s - loss: 0.5201 - accuracy: 0.7426\n",
      "Epoch 00031: saving model to training_3/cp.ckpt\n",
      "323446/323446 [==============================] - 131s 404us/sample - loss: 0.5201 - accuracy: 0.7426 - val_loss: 0.5761 - val_accuracy: 0.7007\n",
      "Epoch 32/100\n",
      "323300/323446 [============================>.] - ETA: 0s - loss: 0.5173 - accuracy: 0.7448\n",
      "Epoch 00032: saving model to training_3/cp.ckpt\n",
      "323446/323446 [==============================] - 131s 406us/sample - loss: 0.5173 - accuracy: 0.7448 - val_loss: 0.5801 - val_accuracy: 0.7020\n",
      "Epoch 33/100\n",
      "323300/323446 [============================>.] - ETA: 0s - loss: 0.5139 - accuracy: 0.7467\n",
      "Epoch 00033: saving model to training_3/cp.ckpt\n",
      "323446/323446 [==============================] - 132s 408us/sample - loss: 0.5138 - accuracy: 0.7468 - val_loss: 0.5776 - val_accuracy: 0.7042\n",
      "Epoch 00033: early stopping\n"
     ]
    }
   ],
   "source": [
    "num_epochs = 100\n",
    "batch_size = 95\n",
    "\n",
    "history = model.fit(X_train, y_train, validation_split=0.2, epochs=num_epochs, batch_size=100, verbose=1, callbacks=[es, cp_callback])\n"
   ]
  },
  {
   "cell_type": "code",
   "execution_count": 56,
   "metadata": {
    "scrolled": false
   },
   "outputs": [
    {
     "data": {
      "image/png": "[encoded data removed]",
      "text/plain": [
       "<Figure size 432x288 with 1 Axes>"
      ]
     },
     "metadata": {
      "needs_background": "light"
     },
     "output_type": "display_data"
    },
    {
     "data": {
      "image/png": "[encoded data removed]",
      "text/plain": [
       "<Figure size 432x288 with 1 Axes>"
      ]
     },
     "metadata": {
      "needs_background": "light"
     },
     "output_type": "display_data"
    }
   ],
   "source": [
    "plt.plot(history.history['loss'])\n",
    "plt.plot(history.history['val_loss'])\n",
    "plt.xlabel(\"Epochs\")\n",
    "plt.ylabel('loss')\n",
    "plt.legend(['loss', 'val_loss'])\n",
    "plt.show()\n",
    "  \n",
    "plt.plot(history.history['accuracy'])\n",
    "plt.plot(history.history['val_accuracy'])\n",
    "plt.xlabel(\"Epochs\")\n",
    "plt.ylabel('accuracy')\n",
    "plt.legend(['accuracy', 'val_accuracy'])\n",
    "plt.show()"
   ]
  },
  {
   "cell_type": "code",
   "execution_count": 57,
   "metadata": {
    "scrolled": true
   },
   "outputs": [
    {
     "name": "stdout",
     "output_type": "stream",
     "text": [
      "WARNING:tensorflow:From C:\\Users\\Donghyeok\\AppData\\Roaming\\Python\\Python37\\site-packages\\tensorflow_core\\python\\ops\\resource_variable_ops.py:1781: calling BaseResourceVariable.__init__ (from tensorflow.python.ops.resource_variable_ops) with constraint is deprecated and will be removed in a future version.\n",
      "Instructions for updating:\n",
      "If using Keras pass *_constraint arguments to layers.\n",
      "INFO:tensorflow:Assets written to: lstm_model_2\\assets\n"
     ]
    }
   ],
   "source": [
    "model.save('lstm_model_2')"
   ]
  },
  {
   "cell_type": "code",
   "execution_count": 59,
   "metadata": {
    "scrolled": true
   },
   "outputs": [
    {
     "name": "stdout",
     "output_type": "stream",
     "text": [
      "101078/1 - 27s - loss: 0.5717 - accuracy: 0.7015\n",
      "Trained model, accuracy: 70.15%\n"
     ]
    }
   ],
   "source": [
    "# Evaluate the model\n",
    "loss, acc = model.evaluate(X_test, y_test, verbose=2)\n",
    "print(\"Trained model, accuracy: {:5.2f}%\".format(100 * acc))"
   ]
  },
  {
   "cell_type": "code",
   "execution_count": 61,
   "metadata": {},
   "outputs": [],
   "source": [
    "predictions = model.predict(X_test)"
   ]
  },
  {
   "cell_type": "code",
   "execution_count": 62,
   "metadata": {},
   "outputs": [],
   "source": [
    "y_pred = predictions > 0.5"
   ]
  },
  {
   "cell_type": "code",
   "execution_count": 25,
   "metadata": {},
   "outputs": [],
   "source": [
    "from sklearn.metrics import confusion_matrix\n",
    "import seaborn as sns"
   ]
  },
  {
   "cell_type": "code",
   "execution_count": 64,
   "metadata": {
    "scrolled": true
   },
   "outputs": [],
   "source": [
    "matrix = confusion_matrix(y_test, y_pred)"
   ]
  },
  {
   "cell_type": "code",
   "execution_count": 65,
   "metadata": {},
   "outputs": [],
   "source": [
    "tn, fp, fn, tp = matrix.ravel()"
   ]
  },
  {
   "cell_type": "code",
   "execution_count": 66,
   "metadata": {
    "scrolled": false
   },
   "outputs": [
    {
     "data": {
      "text/plain": [
       "<matplotlib.axes._subplots.AxesSubplot at 0x269c2909208>"
      ]
     },
     "execution_count": 66,
     "metadata": {},
     "output_type": "execute_result"
    },
    {
     "data": {
      "image/png": "[encoded data removed]",
      "text/plain": [
       "<Figure size 720x504 with 2 Axes>"
      ]
     },
     "metadata": {
      "needs_background": "light"
     },
     "output_type": "display_data"
    }
   ],
   "source": [
    "df_cm = pd.DataFrame(matrix, index = [\"Actual Negative\", \"Actual Positive\"],\n",
    "                      columns = [\"Predicted Negative\", \"Predicted Positive\"])\n",
    "plt.figure(figsize = (10,7))\n",
    "sns.heatmap(df_cm, annot=True, fmt='d', cmap=\"Blues\")"
   ]
  },
  {
   "cell_type": "code",
   "execution_count": 69,
   "metadata": {},
   "outputs": [
    {
     "name": "stdout",
     "output_type": "stream",
     "text": [
      "              precision    recall  f1-score   support\n",
      "\n",
      "           0       0.68      0.75      0.71     50480\n",
      "           1       0.72      0.66      0.69     50598\n",
      "\n",
      "    accuracy                           0.70    101078\n",
      "   macro avg       0.70      0.70      0.70    101078\n",
      "weighted avg       0.70      0.70      0.70    101078\n",
      "\n"
     ]
    }
   ],
   "source": [
    "print(classification_report(y_test, y_pred))"
   ]
  },
  {
   "cell_type": "code",
   "execution_count": 72,
   "metadata": {},
   "outputs": [],
   "source": [
    "from sklearn.feature_extraction.text import TfidfVectorizer, TfidfTransformer\n",
    "from sklearn.pipeline import Pipeline\n",
    "from sklearn.linear_model import LogisticRegression\n",
    "from sklearn.metrics import accuracy_score, classification_report, precision_recall_fscore_support\n",
    "from sklearn.naive_bayes import MultinomialNB"
   ]
  },
  {
   "cell_type": "code",
   "execution_count": 73,
   "metadata": {},
   "outputs": [],
   "source": [
    "X_train, X_test, y_train, y_test = train_test_split(comments, labels)"
   ]
  },
  {
   "cell_type": "code",
   "execution_count": 74,
   "metadata": {},
   "outputs": [],
   "source": [
    "tfidf_unigram = TfidfVectorizer(ngram_range=(1,1), max_features=50000, min_df=2)\n",
    "tfidf_bigram = TfidfVectorizer(ngram_range=(1,2), max_features=50000, min_df=2)"
   ]
  },
  {
   "cell_type": "code",
   "execution_count": 75,
   "metadata": {},
   "outputs": [],
   "source": [
    "logit = LogisticRegression(C=1, n_jobs=4, solver='lbfgs', \n",
    "                           random_state=24, verbose=1)"
   ]
  },
  {
   "cell_type": "code",
   "execution_count": 76,
   "metadata": {
    "scrolled": true
   },
   "outputs": [
    {
     "name": "stderr",
     "output_type": "stream",
     "text": [
      "[Parallel(n_jobs=4)]: Using backend LokyBackend with 4 concurrent workers.\n",
      "[Parallel(n_jobs=4)]: Done   1 out of   1 | elapsed:    7.0s finished\n"
     ]
    },
    {
     "name": "stdout",
     "output_type": "stream",
     "text": [
      "accuracy: 0.680855105384378\n",
      "              precision    recall  f1-score   support\n",
      "\n",
      "           0       0.67      0.71      0.69     62808\n",
      "           1       0.69      0.65      0.67     63539\n",
      "\n",
      "    accuracy                           0.68    126347\n",
      "   macro avg       0.68      0.68      0.68    126347\n",
      "weighted avg       0.68      0.68      0.68    126347\n",
      "\n"
     ]
    }
   ],
   "source": [
    "tfidf_unigram_pipe = Pipeline([('tfidf_unigram', tfidf_unigram), \n",
    "                                 ('logit', logit)])\n",
    "tfidf_unigram_pipe.fit(X_train, y_train)\n",
    "uni_val_pred = tfidf_unigram_pipe.predict(X_test)\n",
    "print(\"accuracy:\", accuracy_score(y_test, uni_val_pred))\n",
    "print(classification_report(y_test, uni_val_pred))"
   ]
  },
  {
   "cell_type": "code",
   "execution_count": 77,
   "metadata": {
    "scrolled": true
   },
   "outputs": [
    {
     "data": {
      "text/plain": [
       "<matplotlib.axes._subplots.AxesSubplot at 0x2357ea63dc8>"
      ]
     },
     "execution_count": 77,
     "metadata": {},
     "output_type": "execute_result"
    },
    {
     "data": {
      "image/png": "[encoded data removed]",
      "text/plain": [
       "<Figure size 720x504 with 2 Axes>"
      ]
     },
     "metadata": {
      "needs_background": "light"
     },
     "output_type": "display_data"
    }
   ],
   "source": [
    "matrix = confusion_matrix(y_test, uni_val_pred)\n",
    "tn, fp, fn, tp = matrix.ravel()\n",
    "df_cm = pd.DataFrame(matrix, index = [\"Actual Negative\", \"Actual Positive\"],\n",
    "                      columns = [\"Predicted Negative\", \"Predicted Positive\"])\n",
    "plt.figure(figsize = (10,7))\n",
    "sns.heatmap(df_cm, annot=True, fmt='d', cmap=\"Blues\")"
   ]
  },
  {
   "cell_type": "code",
   "execution_count": 78,
   "metadata": {},
   "outputs": [
    {
     "name": "stderr",
     "output_type": "stream",
     "text": [
      "[Parallel(n_jobs=4)]: Using backend LokyBackend with 4 concurrent workers.\n",
      "[Parallel(n_jobs=4)]: Done   1 out of   1 | elapsed:    6.9s finished\n"
     ]
    },
    {
     "name": "stdout",
     "output_type": "stream",
     "text": [
      "accuracy: 0.6996129706285072\n",
      "              precision    recall  f1-score   support\n",
      "\n",
      "           0       0.68      0.74      0.71     62808\n",
      "           1       0.72      0.66      0.69     63539\n",
      "\n",
      "    accuracy                           0.70    126347\n",
      "   macro avg       0.70      0.70      0.70    126347\n",
      "weighted avg       0.70      0.70      0.70    126347\n",
      "\n"
     ]
    }
   ],
   "source": [
    "tfidf_bigram_pipe = Pipeline([('tfidf_bigram', tfidf_bigram), \n",
    "                                 ('logit', logit)])\n",
    "tfidf_bigram_pipe.fit(X_train, y_train)\n",
    "bi_val_pred = tfidf_bigram_pipe.predict(X_test)\n",
    "print(\"accuracy:\", accuracy_score(y_test, bi_val_pred))\n",
    "print(classification_report(y_test, bi_val_pred))"
   ]
  },
  {
   "cell_type": "code",
   "execution_count": 79,
   "metadata": {},
   "outputs": [],
   "source": [
    "matrix = confusion_matrix(y_test, bi_val_pred)"
   ]
  },
  {
   "cell_type": "code",
   "execution_count": 80,
   "metadata": {},
   "outputs": [
    {
     "data": {
      "text/plain": [
       "<matplotlib.axes._subplots.AxesSubplot at 0x235af19ea48>"
      ]
     },
     "execution_count": 80,
     "metadata": {},
     "output_type": "execute_result"
    },
    {
     "data": {
      "image/png": "[encoded data removed]",
      "text/plain": [
       "<Figure size 720x504 with 2 Axes>"
      ]
     },
     "metadata": {
      "needs_background": "light"
     },
     "output_type": "display_data"
    }
   ],
   "source": [
    "tn, fp, fn, tp = matrix.ravel()\n",
    "df_cm = pd.DataFrame(matrix, index = [\"Actual Negative\", \"Actual Positive\"],\n",
    "                      columns = [\"Predicted Negative\", \"Predicted Positive\"])\n",
    "plt.figure(figsize = (10,7))\n",
    "sns.heatmap(df_cm, annot=True, fmt='d', cmap=\"Blues\")"
   ]
  },
  {
   "cell_type": "code",
   "execution_count": 81,
   "metadata": {},
   "outputs": [],
   "source": [
    "NB = MultinomialNB()"
   ]
  },
  {
   "cell_type": "code",
   "execution_count": 82,
   "metadata": {
    "scrolled": true
   },
   "outputs": [
    {
     "name": "stdout",
     "output_type": "stream",
     "text": [
      "accuracy: 0.6728929060444648\n",
      "              precision    recall  f1-score   support\n",
      "\n",
      "           0       0.67      0.68      0.68     62808\n",
      "           1       0.68      0.66      0.67     63539\n",
      "\n",
      "    accuracy                           0.67    126347\n",
      "   macro avg       0.67      0.67      0.67    126347\n",
      "weighted avg       0.67      0.67      0.67    126347\n",
      "\n"
     ]
    }
   ],
   "source": [
    "tfidf_unigram_NB_pipe = Pipeline([('tfidf_unigram', tfidf_unigram), \n",
    "                                 ('NB', NB)])\n",
    "tfidf_unigram_NB_pipe.fit(X_train, y_train)\n",
    "uni_val_NB_pred = tfidf_unigram_NB_pipe.predict(X_test)\n",
    "print(\"accuracy:\", accuracy_score(y_test, uni_val_NB_pred))\n",
    "print(classification_report(y_test, uni_val_NB_pred))"
   ]
  },
  {
   "cell_type": "code",
   "execution_count": 83,
   "metadata": {
    "scrolled": true
   },
   "outputs": [
    {
     "name": "stdout",
     "output_type": "stream",
     "text": [
      "accuracy: 0.6902261232953691\n",
      "              precision    recall  f1-score   support\n",
      "\n",
      "           0       0.67      0.73      0.70     62808\n",
      "           1       0.71      0.65      0.68     63539\n",
      "\n",
      "    accuracy                           0.69    126347\n",
      "   macro avg       0.69      0.69      0.69    126347\n",
      "weighted avg       0.69      0.69      0.69    126347\n",
      "\n"
     ]
    }
   ],
   "source": [
    "tfidf_bigram_NB_pipe = Pipeline([('tfidf_unigram', tfidf_bigram), \n",
    "                                 ('NB', NB)])\n",
    "tfidf_bigram_NB_pipe.fit(X_train, y_train)\n",
    "bi_val_NB_pred = tfidf_bigram_NB_pipe.predict(X_test)\n",
    "print(\"accuracy:\", accuracy_score(y_test, bi_val_NB_pred))\n",
    "print(classification_report(y_test, bi_val_NB_pred))"
   ]
  },
  {
   "cell_type": "code",
   "execution_count": 84,
   "metadata": {
    "scrolled": true
   },
   "outputs": [
    {
     "name": "stdout",
     "output_type": "stream",
     "text": [
      "              precision    recall  f1-score   support\n",
      "\n",
      "           0       0.67      0.73      0.70     62808\n",
      "           1       0.71      0.65      0.68     63539\n",
      "\n",
      "    accuracy                           0.69    126347\n",
      "   macro avg       0.69      0.69      0.69    126347\n",
      "weighted avg       0.69      0.69      0.69    126347\n",
      "\n"
     ]
    }
   ],
   "source": [
    "print(classification_report(y_test, bi_val_NB_pred))"
   ]
  }
 ],
 "metadata": {
  "kernelspec": {
   "display_name": "Python 3",
   "language": "python",
   "name": "python3"
  },
  "language_info": {
   "codemirror_mode": {
    "name": "ipython",
    "version": 3
   },
   "file_extension": ".py",
   "mimetype": "text/x-python",
   "name": "python",
   "nbconvert_exporter": "python",
   "pygments_lexer": "ipython3",
   "version": "3.7.5"
  }
 },
 "nbformat": 4,
 "nbformat_minor": 4
}
